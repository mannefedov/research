{
 "cells": [
  {
   "cell_type": "code",
   "execution_count": 54,
   "metadata": {},
   "outputs": [],
   "source": [
    "import pandas as pd\n",
    "import re\n",
    "import numpy as np\n",
    "from sympy.solvers import solve\n",
    "from sympy import Symbol, simplify\n",
    "from sympy import sieve\n",
    "from random import choice"
   ]
  },
  {
   "cell_type": "code",
   "execution_count": 55,
   "metadata": {},
   "outputs": [],
   "source": [
    "table = pd.read_csv('dialog/patterns/artith_qa.csv').fillna('')"
   ]
  },
  {
   "cell_type": "code",
   "execution_count": 4,
   "metadata": {},
   "outputs": [],
   "source": [
    "def parse_line(line):\n",
    "    steps = list(line[['r1', 'r2', 'r3', 'r4', 'r5']].values)\n",
    "    reqs = list(line[['r1_req', 'r2_req', 'r3_req', 'r4_req', 'r5_req']].values)\n",
    "    words = {}\n",
    "    word_deps = {}\n",
    "    for var, word in zip(['word1', 'word2', 'word3', 'word4', 'word5', 'word6', 'word7'],\n",
    "                        line[['word1', 'word2', 'word3', 'word4', 'word5', 'word6', 'word7']].values):\n",
    "        if '@' in word:\n",
    "            dep, options = word.split('@')\n",
    "            word_deps[var] = dep\n",
    "        else:\n",
    "            options = word\n",
    "        \n",
    "        options = [w.replace('\\\\', '').split(';') for w in split_esc(options, ',')]\n",
    "        words[var] = options\n",
    "    formula = line['formula']   \n",
    "    ranges = {}\n",
    "    for v in line['var_range'].split(';'):\n",
    "        var, rang = v.split('=')\n",
    "        ranges[var] = eval(rang)\n",
    "    context = line['context']\n",
    "    question = line['q']\n",
    "    defined_vars = {}\n",
    "    if line['defined_vars']:\n",
    "        \n",
    "    \n",
    "        for v in line['defined_vars'].split(';'):\n",
    "            var, val = v.split('=')\n",
    "            defined_vars[var] = int(val)\n",
    "    \n",
    "    return context, question, steps, reqs, ranges, word_deps, words, defined_vars"
   ]
  },
  {
   "cell_type": "code",
   "execution_count": 5,
   "metadata": {},
   "outputs": [],
   "source": [
    "import math\n",
    "def divisors(n, rang=None):\n",
    "    if not rang:\n",
    "        rang= (2, int(math.sqrt(n))+1)\n",
    "    else:\n",
    "        rang = (max(rang[0], 2), int(math.sqrt(rang[1]))+1)\n",
    "    divs = set()\n",
    "    for i in range(*rang):\n",
    "        if n%i == 0:\n",
    "            divs.update([i])\n",
    "            if n/i < rang[1]:\n",
    "                divs.update([n/i])\n",
    "            \n",
    "    \n",
    "    return list(set(divs))"
   ]
  },
  {
   "cell_type": "code",
   "execution_count": 6,
   "metadata": {},
   "outputs": [],
   "source": [
    "def generate_numbers_add_or_mult(step, req, ranges, defined_vars, not_prime_req, res_dividable_req, i):\n",
    "    if '+' in step:\n",
    "        variables = step.split('+')\n",
    "    elif '*' in step:\n",
    "        variables = step.split('*')\n",
    "    else:\n",
    "        raise KeyError\n",
    "\n",
    "    \n",
    "    #нет условия сверху, наверное все через интервалы переменных задать можно\n",
    "    # но надо будет проверять\n",
    "    if req:\n",
    "        if variables[0] not in defined_vars and variables[1] not in defined_vars:\n",
    "            v1 = np.random.randint(*ranges[variables[0]])\n",
    "            exec(f'{variables[0]} = {v1}')\n",
    "            exec(f'{variables[1]} = Symbol(\"{variables[1]}\")')\n",
    "            exec(f'r{i+1}= {step}')\n",
    "            sol = solve((eval(req)).subs(variables[0], v1), variables[1])\n",
    "\n",
    "            sol = sol.as_set()\n",
    "            min_sol, max_sol = float(sol.left), float(sol.right)\n",
    "            min_rang, max_rang = ranges[variables[1]]\n",
    "\n",
    "            v2 = np.random.randint(max([min_sol, min_rang]), \n",
    "                                       min([max_sol, max_rang]))\n",
    "            \n",
    "        elif variables[0] in defined_vars:\n",
    "            v1 = defined_vars[variables[0]]\n",
    "            exec(f'{variables[1]} = Symbol(\"{variables[1]}\")')\n",
    "            exec(f'{variables[0]} = {v1}')\n",
    "            exec(f'r{i+1}= {step}')\n",
    "            sol = solve((eval(req)).subs(variables[0], v1), variables[1])\n",
    "#             print(req)\n",
    "#             print((eval(req)))\n",
    "            sol = sol.as_set()\n",
    "            min_sol, max_sol = float(sol.left), float(sol.right)\n",
    "            min_rang, max_rang = ranges[variables[1]]\n",
    "\n",
    "            v2 = np.random.randint(max([min_sol, min_rang]), \n",
    "                                       min([max_sol, max_rang]))\n",
    "            \n",
    "        elif variables[1] in defined_vars:\n",
    "            v2 = defined_vars[variables[1]]\n",
    "            exec(f'{variables[1]} = {v2}')\n",
    "            exec(f'{variables[0]} = Symbol(\"{variables[0]}\")')\n",
    "            exec(f'r{i+1}= {step}')\n",
    "            sol = solve((eval(req)).subs(variables[1], v2), variables[0])\n",
    "\n",
    "            sol = sol.as_set()\n",
    "            min_sol, max_sol = float(sol.left), float(sol.right)\n",
    "            min_rang, max_rang = ranges[variables[0]]\n",
    "\n",
    "            v1 = np.random.randint(max([min_sol, min_rang]), \n",
    "                                       min([max_sol, max_rang]))\n",
    "            \n",
    "    else:\n",
    "\n",
    "        v1 = defined_vars.get(variables[0]) or np.random.randint(*ranges[variables[0]])\n",
    "        v2 = defined_vars.get(variables[1]) or np.random.randint(*ranges[variables[1]])\n",
    "    \n",
    "    exec(f'{variables[0]} = {v1}')\n",
    "    exec(f'{variables[1]} = {v2}')\n",
    "    result = eval(step)\n",
    "    \n",
    "    if f'r{i+1}' in not_prime_req and result in sieve:\n",
    "        return generate_numbers_add_or_mult(step, req, ranges, defined_vars, not_prime_req, res_dividable_req, i)\n",
    "    elif f'r{i+1}' in res_dividable_req:\n",
    "        if res_dividable_req[f'r{i+1}']%result:\n",
    "            return generate_numbers_add_or_mult(step, req, ranges, defined_vars, not_prime_req, res_dividable_req, i)\n",
    "        else:\n",
    "            return result\n",
    "    else:\n",
    "        return v1, v2, result\n",
    "\n"
   ]
  },
  {
   "cell_type": "code",
   "execution_count": 7,
   "metadata": {},
   "outputs": [],
   "source": [
    "def generate_numbers_subst(step, req, ranges, defined_vars, not_prime_req, res_dividable_req, i):\n",
    "    variables = step.split('-')\n",
    "    \n",
    "\n",
    "    \n",
    "    #условия снизу плохо учитываются. Если в r1>100, а первое число \n",
    "    # в интервале 1,300, наверное все обходится через правильные интервалы\n",
    "    # или если r1<1000 , v1=5000, а у второго  интервал меньше 4 к\n",
    "    if req:\n",
    "        if variables[0] not in defined_vars and variables[1] not in defined_vars:\n",
    "            v1 = np.random.randint(*ranges[variables[0]])\n",
    "            exec(f'{variables[0]} = {v1}')\n",
    "            exec(f'{variables[1]} = Symbol(\"{variables[1]}\")')\n",
    "            exec(f'r{i+1}= {step}')\n",
    "            sol = solve((eval(req)).subs(variables[0], v1), variables[1])\n",
    "\n",
    "            sol = sol.as_set()\n",
    "            min_sol, max_sol = float(sol.left), float(sol.right)\n",
    "            min_rang, max_rang = ranges[variables[1]]\n",
    "            min_r, max_r = (max([min_sol, min_rang]), \n",
    "                                       min([max_sol, max_rang, v1-1]))\n",
    "#             if min_r >= max_r:\n",
    "                \n",
    "#                 return generate_numbers_subst(step, req, ranges, defined_vars, not_prime_req, res_dividable_req, i)\n",
    "            \n",
    "            v2 = np.random.randint(min_r, max_r)\n",
    "            \n",
    "        elif variables[0] in defined_vars:\n",
    "            v1 = defined_vars[variables[0]]\n",
    "            exec(f'{variables[1]} = Symbol(\"{variables[1]}\")')\n",
    "            exec(f'{variables[0]} = {v1}')\n",
    "            exec(f'r{i+1}= {step}')\n",
    "            sol = solve((eval(req)), variables[1])\n",
    "#             print(req)\n",
    "#             print((eval(req)))\n",
    "            sol = sol.as_set()\n",
    "            min_sol, max_sol = float(sol.left), float(sol.right)\n",
    "            min_rang, max_rang = ranges[variables[1]]\n",
    "            min_r, max_r = (max([min_sol, min_rang]), \n",
    "                                       min([max_sol, max_rang, v1-1]))\n",
    "#             if min_r >= max_r:\n",
    "#                 print(v1, min_r, max_r)\n",
    "#                 return generate_numbers_subst(step, req, ranges, defined_vars, not_prime_req, res_dividable_req, i)\n",
    "            \n",
    "            v2 = np.random.randint(min_r, max_r)\n",
    "            \n",
    "        elif variables[1] in defined_vars:\n",
    "            v2 = defined_vars[variables[1]]\n",
    "            exec(f'{variables[1]} = {v2}')\n",
    "            exec(f'{variables[0]} = Symbol(\"{variables[0]}\")')\n",
    "            exec(f'r{i+1}= {step}')\n",
    "            sol = solve((eval(req)), variables[0])\n",
    "\n",
    "            sol = sol.as_set()\n",
    "            min_sol, max_sol = float(sol.left), float(sol.right)\n",
    "            min_rang, max_rang = ranges[variables[0]]\n",
    "            min_r, max_r = (max([v2+1, min_sol, min_rang]), \n",
    "                                       min([max_sol, max_rang]))\n",
    "#             if min_r >= max_r:\n",
    "#                 return generate_numbers_subst(step, req, ranges, defined_vars, not_prime_req, res_dividable_req, i)\n",
    "            \n",
    "            v1 = np.random.randint(min_r, max_r)\n",
    "            \n",
    "    else:\n",
    "        # допилить для определенных r1 \n",
    "        v1 = defined_vars.get(variables[0]) or np.random.randint(*ranges[variables[0]])\n",
    "        min_r, max_r = ranges[variables[1]]\n",
    "        v2 = defined_vars.get(variables[1]) or np.random.randint(min_r, min(max_r, v1))\n",
    "    \n",
    "    exec(f'{variables[0]} = {v1}')\n",
    "    exec(f'{variables[1]} = {v2}')\n",
    "    result = eval(step)\n",
    "    \n",
    "    if f'r{i+1}' in not_prime_req and result in sieve:\n",
    "        return generate_numbers_subst(step, req, ranges, defined_vars, not_prime_req, res_dividable_req, i)\n",
    "    elif f'r{i+1}' in res_dividable_req:\n",
    "        if res_dividable_req[f'r{i+1}']%result:\n",
    "            return generate_numbers_subst(step, req, ranges, defined_vars, not_prime_req, res_dividable_req, i)\n",
    "        else:\n",
    "            return result\n",
    "    elif result < 1:\n",
    "        return generate_numbers_subst(step, req, ranges, defined_vars, not_prime_req, res_dividable_req, i)\n",
    "    else:\n",
    "        return v1, v2, result\n",
    "\n"
   ]
  },
  {
   "cell_type": "code",
   "execution_count": 8,
   "metadata": {},
   "outputs": [],
   "source": [
    "def generate_numbers_div(step, req, ranges, defined_vars, not_prime_req, res_dividable_req, i):\n",
    "    variables = step.split('/')\n",
    "    \n",
    "\n",
    "    \n",
    "    #пока не работает\n",
    "    # нужно как-то учитывать условия\n",
    "    # ещё продумать что делать с определенным вторым аргументов\n",
    "    # делители при определенном втором аргументе могут не найтись и будут ошибки\n",
    "    # но наверное лучше оставить так, потому что заново ничего уже не сгенеришь\n",
    "    # если ошибки будут часто, то надо будет продумывать откат назад\n",
    "    # но пока кажется что требование на делимость будет достаточно\n",
    "    if req:\n",
    "        if variables[0] not in defined_vars and variables[1] not in defined_vars:\n",
    "            v1 = np.random.choice([i for i in range(*ranges[variables[0]]) if i not in sieve])\n",
    "            exec(f'{variables[0]} = {v1}')\n",
    "            exec(f'{variables[1]} = Symbol(\"{variables[1]}\")')\n",
    "            exec(f'r{i+1}= {step}')\n",
    "            sol = solve((eval(req)).subs(variables[0], v1), variables[1])\n",
    "            sol = sol.as_set()\n",
    "            min_sol, max_sol = float(sol.left), float(sol.right)\n",
    "            min_rang, max_rang = ranges[variables[1]]\n",
    "            min_r, max_r = (max([min_sol, min_rang]), \n",
    "                                       min([max_sol, max_rang]))\n",
    "            factors = divisors(v1, (round(min_r), round(max_r)+1))\n",
    "            if not factors:\n",
    "                return generate_numbers_div(step, req, ranges, defined_vars, not_prime_req, res_dividable_req, i)\n",
    "            v2 = np.random.choice(factors)\n",
    "            \n",
    "        elif variables[0] in defined_vars:\n",
    "            v1 = defined_vars[variables[0]]\n",
    "            exec(f'{variables[0]} = {v1}')\n",
    "            exec(f'{variables[1]} = Symbol(\"{variables[1]}\")')\n",
    "            exec(f'r{i+1}= {step}')\n",
    "            sol = solve((eval(req)), variables[1])\n",
    "            sol = sol.as_set()\n",
    "            min_sol, max_sol = float(sol.left), float(sol.right)\n",
    "            min_rang, max_rang = ranges[variables[1]]\n",
    "            min_r, max_r = (max([min_sol, min_rang]), \n",
    "                                       min([max_sol, max_rang]))\n",
    "            factors = divisors(v1, (round(min_r), round(max_r)+1))\n",
    "            if not factors:\n",
    "                return generate_numbers_div(step, req, ranges, defined_vars, not_prime_req, res_dividable_req, i)\n",
    "            v2 = np.random.choice(factors)\n",
    "            \n",
    "        elif variables[1] in defined_vars:\n",
    "            v2 = defined_vars[variables[1]]\n",
    "            exec(f'{variables[1]} = {v2}')\n",
    "            exec(f'{variables[0]} = Symbol(\"{variables[0]}\")')\n",
    "            exec(f'r{i+1}= {step}')\n",
    "            sol = solve((eval(req)), variables[0])\n",
    "            sol = sol.as_set()\n",
    "            min_sol, max_sol = float(sol.left), float(sol.right)\n",
    "            min_rang, max_rang = ranges[variables[0]]\n",
    "            min_r, max_r = (max([min_sol, min_rang]), \n",
    "                                       min([max_sol, max_rang]))\n",
    "\n",
    "            v1 = np.random.choice([i for i in range(round(min_r), round(max_r)+1) if not i%v2 and i!=1])\n",
    "            \n",
    "    else:\n",
    "        if variables[0] not in defined_vars and variables[1] not in defined_vars:\n",
    "            v1 = np.random.choice([i for i in range(*ranges[variables[0]]) if i not in sieve])\n",
    "\n",
    "            factors = divisors(v1, ranges[variables[1]])\n",
    "            if not factors:\n",
    "                return generate_numbers_div(step, req, ranges, defined_vars, not_prime_req, res_dividable_req, i)\n",
    "            v2 = np.random.choice(factors)\n",
    "        elif variables[0] in defined_vars:\n",
    "            v1 = defined_vars[variables[0]]\n",
    "\n",
    "            factors = divisors(v1, ranges[variables[1]])\n",
    "            if not factors:\n",
    "                return generate_numbers_div(step, req, ranges, defined_vars, not_prime_req, res_dividable_req, i)\n",
    "            v2 = np.random.choice(factors)\n",
    "        elif variables[1] in defined_vars:\n",
    "            v2 = defined_vars[variables[1]]\n",
    "            v1 = np.random.choice([i for i in range(*ranges[variables[0]]) if not i%v2 and i!=1])\n",
    "            \n",
    "        \n",
    "    exec(f'{variables[0]} = {v1}')\n",
    "    exec(f'{variables[1]} = {v2}')\n",
    "    result = eval(step)\n",
    "    \n",
    "    if f'r{i+1}' in not_prime_req and result in sieve:\n",
    "        return generate_numbers_div(step, req, ranges, defined_vars, not_prime_req, res_dividable_req, i)\n",
    "    elif f'r{i+1}' in res_dividable_req:\n",
    "        if res_dividable_req[f'r{i+1}']%result:\n",
    "            return generate_numbers_div(step, req, ranges, defined_vars, not_prime_req, res_dividable_req, i)\n",
    "        else:\n",
    "            return int(v1), int(v2), int(result)\n",
    "    elif result < 1:\n",
    "        return generate_numbers_div(step, req, ranges, defined_vars, not_prime_req, res_dividable_req, i)\n",
    "    else:\n",
    "        return int(v1), int(v2), int(result)\n",
    "\n"
   ]
  },
  {
   "cell_type": "code",
   "execution_count": null,
   "metadata": {},
   "outputs": [],
   "source": []
  },
  {
   "cell_type": "code",
   "execution_count": 111,
   "metadata": {},
   "outputs": [
    {
     "data": {
      "text/latex": [
       "$\\displaystyle cn_{2} + 28 > 100$"
      ],
      "text/plain": [
       "cn2 + 28 > 100"
      ]
     },
     "execution_count": 111,
     "metadata": {},
     "output_type": "execute_result"
    }
   ],
   "source": [
    "(eval(req)).subs(variables[0], v1)"
   ]
  },
  {
   "cell_type": "code",
   "execution_count": 352,
   "metadata": {},
   "outputs": [
    {
     "data": {
      "text/plain": [
       "(10, 6294, 6304)"
      ]
     },
     "execution_count": 352,
     "metadata": {},
     "output_type": "execute_result"
    }
   ],
   "source": [
    "generate_numbers_add_or_mult(step='r1+cn2', req='r2>1000',  defined_vars={'r1':10},\n",
    "                                 ranges={'cn1': (1, 15000), 'cn2': (1, 13000)}, \n",
    "                                 not_prime_req={'cn2',},\n",
    "                                 res_dividable_req={}, i=1)"
   ]
  },
  {
   "cell_type": "code",
   "execution_count": 356,
   "metadata": {},
   "outputs": [
    {
     "data": {
      "text/plain": [
       "(131, 231, 30261)"
      ]
     },
     "execution_count": 356,
     "metadata": {},
     "output_type": "execute_result"
    }
   ],
   "source": [
    "generate_numbers_add_or_mult('cn1*cn2', 'r1>1000',   defined_vars={'r1':10},\n",
    "                             ranges={'cn1': (1, 500), 'cn2': (1, 1300)}, \n",
    "                                 not_prime_req={'cn2',},\n",
    "                                 res_dividable_req={}, i=0)"
   ]
  },
  {
   "cell_type": "code",
   "execution_count": 357,
   "metadata": {},
   "outputs": [
    {
     "data": {
      "text/plain": [
       "(100, 33, 67)"
      ]
     },
     "execution_count": 357,
     "metadata": {},
     "output_type": "execute_result"
    }
   ],
   "source": [
    "generate_numbers_subst('r1-cn2', 'r2>10', defined_vars={'r1':100}, ranges={'cn1': (1, 15000), 'cn2': (1, 15000)}, \n",
    "                                 not_prime_req={'cn2',},\n",
    "                                 res_dividable_req={}, i=1)"
   ]
  },
  {
   "cell_type": "code",
   "execution_count": 422,
   "metadata": {},
   "outputs": [
    {
     "data": {
      "text/plain": [
       "(1000, 5, 200)"
      ]
     },
     "execution_count": 422,
     "metadata": {},
     "output_type": "execute_result"
    }
   ],
   "source": [
    "generate_numbers_div('cn1/cn2', 'r1>3', defined_vars={'cn1':1000}, ranges={'cn1': (10, 5000), 'cn2': (5, 5000)}, \n",
    "                                 not_prime_req={'cn2',},\n",
    "                                 res_dividable_req={}, i=0)"
   ]
  },
  {
   "cell_type": "code",
   "execution_count": 217,
   "metadata": {},
   "outputs": [
    {
     "name": "stdout",
     "output_type": "stream",
     "text": [
      "2615 5.0 523.0\n"
     ]
    }
   ],
   "source": [
    "\n",
    "\n",
    "v1 = np.random.choice([i for i in range(*ranges[variables[0]]) if i not in sieve])\n",
    "\n",
    "factors = divisors(v1, ranges[variables[1]])\n",
    "v2 = np.random.choice(factors)\n",
    "\n",
    "print(v1, v2, v1/v2)"
   ]
  },
  {
   "cell_type": "code",
   "execution_count": 341,
   "metadata": {},
   "outputs": [],
   "source": [
    "step='r1-cn2'\n",
    "req='r2<100'\n",
    "ranges={'cn1': (1, 5000), 'cn2': (1, 1300)}\n",
    "variables = step.split('-')                              \n",
    "not_prime_req={'cn2',}\n",
    "defined_vars = {'r1':100}                 \n",
    "res_dividable_req={}\n",
    "i=1\n",
    "\n",
    "v1 = defined_vars[variables[0]]\n",
    "exec(f'{variables[1]} = Symbol(\"{variables[1]}\")')\n",
    "exec(f'{variables[0]} = {v1}')\n",
    "exec(f'r{i+1}= {step}')\n",
    "sol = solve((eval(req)), variables[1])\n",
    "#             print(req)\n",
    "#             print((eval(req)))\n",
    "sol = sol.as_set()\n",
    "min_sol, max_sol = float(sol.left), float(sol.right)\n",
    "min_rang, max_rang = ranges[variables[1]]\n",
    "min_r, max_r = (max([min_sol, min_rang]), \n",
    "                           min([max_sol, max_rang, v1-1]))\n",
    "\n",
    "\n",
    "# v1 = np.random.choice([i for i in range(*ranges[variables[0]]) if i not in sieve])\n",
    "# exec(f'{variables[0]} = {v1}')\n",
    "# exec(f'{variables[1]} = Symbol(\"{variables[1]}\")')\n",
    "# exec(f'r{i+1}= {step}')\n",
    "# sol = solve((eval(req)).subs(variables[0], v1), variables[1])\n",
    "# sol = sol.as_set()\n",
    "# min_sol, max_sol = float(sol.left), float(sol.right)\n",
    "# min_rang, max_rang = ranges[variables[1]]\n",
    "# min_r, max_r = (max([min_sol, min_rang]), \n",
    "#                            min([max_sol, max_rang]))\n",
    "# factors = divisors(v1, (round(min_r), round(max_r)+1))\n",
    "# v2 = np.random.choice(factors)\n",
    "# print(v1, v2, v1/v2)"
   ]
  },
  {
   "cell_type": "code",
   "execution_count": null,
   "metadata": {},
   "outputs": [],
   "source": []
  },
  {
   "cell_type": "code",
   "execution_count": 9,
   "metadata": {},
   "outputs": [],
   "source": [
    "\n",
    "\n",
    "\n",
    "    \n",
    "\n",
    "\n",
    "def generate(context, question, steps, reqs, ranges, word_deps, words, defined_vars={}):\n",
    "    \n",
    "    \n",
    "    not_prime_req = set()\n",
    "    for step in steps:\n",
    "        if '/' in step and step.split('/')[0].startswith('r'):\n",
    "            not_prime_req.add(step.split('/')[0])\n",
    "    res_dividable_req = {}\n",
    "    for step in steps:\n",
    "        if '/' in step:\n",
    "            v1, v2 = step.split('/')\n",
    "            if v1.startswith('r') and v2.startswith('r'):\n",
    "                res_dividable_req[v2] = v1\n",
    "    \n",
    "    \n",
    "    \n",
    "    for i, step in enumerate(steps):\n",
    "\n",
    "        if '*' in step:\n",
    "            v1, v2, result = generate_numbers_add_or_mult(step, reqs[i], ranges, \n",
    "                                                          defined_vars, not_prime_req, \n",
    "                                                          res_dividable_req, i)\n",
    "            v1_name, v2_name = step.split('*')\n",
    "            defined_vars[v1_name] = v1\n",
    "            defined_vars[v2_name] = v2\n",
    "            defined_vars['result'] = result\n",
    "            defined_vars[f'r{i+1}'] = result\n",
    "        elif '+' in step:\n",
    "            v1, v2, result = generate_numbers_add_or_mult(step, reqs[i], ranges, \n",
    "                                                          defined_vars, not_prime_req, \n",
    "                                                          res_dividable_req, i)\n",
    "            v1_name, v2_name = step.split('+')\n",
    "            defined_vars[v1_name] = v1\n",
    "            defined_vars[v2_name] = v2\n",
    "            defined_vars['result'] = result\n",
    "            defined_vars[f'r{i+1}'] = result\n",
    "        \n",
    "        elif '-' in step:\n",
    "            v1, v2, result = generate_numbers_subst(step, reqs[i], ranges, \n",
    "                                                          defined_vars, not_prime_req, \n",
    "                                                          res_dividable_req, i)\n",
    "            v1_name, v2_name = step.split('-')\n",
    "            defined_vars[v1_name] = v1\n",
    "            defined_vars[v2_name] = v2\n",
    "            defined_vars['result'] = result\n",
    "            defined_vars[f'r{i+1}'] = result\n",
    "        \n",
    "        elif '/' in step:\n",
    "            v1, v2, result = generate_numbers_div(step, reqs[i], ranges, \n",
    "                                                          defined_vars, not_prime_req, \n",
    "                                                          res_dividable_req, i)\n",
    "            v1_name, v2_name = step.split('/')\n",
    "            defined_vars[v1_name] = v1\n",
    "            defined_vars[v2_name] = v2\n",
    "            defined_vars['result'] = result\n",
    "            defined_vars[f'r{i+1}'] = result\n",
    "    \n",
    "    intermediate_chosen = {}\n",
    "    for i in range(1, 8):\n",
    "        key = f'word{i}'\n",
    "        value = words[key]\n",
    "\n",
    "        if len(value) == 1 and value[0][0].startswith('word'):\n",
    "            # доработать чтобы разрешать зависимости от чисел\n",
    "            # пока зависит только от числа, но падеж и число одновременно скорее всего тоже нужны\n",
    "            \n",
    "            \n",
    "            wordcase = value[0][0].split('_')\n",
    "            if len(wordcase) == 1:\n",
    "                word = wordcase[0]\n",
    "                if key in word_deps:\n",
    "                    idx = check_one_ending(str(defined_vars[word_deps[key]]))\n",
    "                    \n",
    "                else:\n",
    "                    idx = -1\n",
    "                \n",
    "                defined_vars[key] = intermediate_chosen[word][idx]\n",
    "                intermediate_chosen[key] = intermediate_chosen[word]\n",
    "            \n",
    "            elif wordcase[1] in ['nom', 'gen', 'dat', 'acc']:\n",
    "                word = wordcase[0]\n",
    "                case = ['nom', 'gen', 'dat', 'acc'].index(wordcase[1])\n",
    "            \n",
    "#             elif wordcase[0] in \n",
    "                defined_vars[key] = intermediate_chosen[word][case]\n",
    "                intermediate_chosen[key] = intermediate_chosen[word]\n",
    "        \n",
    "        elif len(value) == 1 and value[0][0].startswith('name'):\n",
    "            _,gender,case = value[0][0].split('_')\n",
    "            if gender == 'masc':\n",
    "                name = choice(names_masc)\n",
    "#                 name = ['Антон', 'Антона', \"Антону\"]\n",
    "            else:\n",
    "                name = choice(names_fem)\n",
    "#                 name = ['Вика', 'Вики', \"Вике\"]\n",
    "            \n",
    "            intermediate_chosen[key] = name\n",
    "            defined_vars[key] = name[['nom', 'gen', 'dat', 'acc'].index(case)]\n",
    "            \n",
    "    \n",
    "        else:\n",
    "        \n",
    "            word_forms = choice(value)\n",
    "            \n",
    "            if len(word_forms) > 1:\n",
    "                if key not in word_deps:\n",
    "                    print(f'Unresolved num dependency for var {key}')\n",
    "                    raise KeyError\n",
    "                num = str(defined_vars[word_deps[key]])\n",
    "                chosen_idx = check_one_ending(num)\n",
    "                intermediate_chosen[key] = word_forms\n",
    "                defined_vars[key] = word_forms[chosen_idx]\n",
    "            else:\n",
    "                intermediate_chosen[key] = word_forms\n",
    "                defined_vars[key] = word_forms[0]\n",
    "\n",
    "      \n",
    "                    \n",
    "    \n",
    "    return context.format(**defined_vars), question.format(**defined_vars), \\\n",
    "            defined_vars['result']"
   ]
  },
  {
   "cell_type": "code",
   "execution_count": 10,
   "metadata": {},
   "outputs": [],
   "source": [
    "def check_one_ending(num):\n",
    "    if num[-1] == '1':\n",
    "        if len(num) == 1 or num[-2] != '1':\n",
    "            chosen = 0\n",
    "        else:\n",
    "            chosen = 2\n",
    "    elif num[-1] in '234':\n",
    "        if len(num) == 1 or num[-2] != '1':\n",
    "            chosen = 1\n",
    "        else:\n",
    "            chosen = 2\n",
    "    else:\n",
    "        chosen = 2\n",
    "        \n",
    "    return chosen\n",
    "\n",
    "def split_esc(string, delimiter):\n",
    "    if len(delimiter) != 1:\n",
    "        raise ValueError('Invalid delimiter: ' + delimiter)\n",
    "    ln = len(string)\n",
    "    i = 0\n",
    "    j = 0\n",
    "    while j < ln:\n",
    "        if string[j] == '\\\\':\n",
    "            if j + 1 >= ln:\n",
    "                yield string[i:j]\n",
    "                return\n",
    "            j += 1\n",
    "        elif string[j] == delimiter:\n",
    "            yield string[i:j]\n",
    "            i = j + 1\n",
    "        j += 1\n",
    "    yield string[i:j]"
   ]
  },
  {
   "cell_type": "code",
   "execution_count": 574,
   "metadata": {},
   "outputs": [
    {
     "data": {
      "text/plain": [
       "1"
      ]
     },
     "execution_count": 574,
     "metadata": {},
     "output_type": "execute_result"
    }
   ],
   "source": [
    "check_one_ending('32')"
   ]
  },
  {
   "cell_type": "code",
   "execution_count": 460,
   "metadata": {},
   "outputs": [],
   "source": [
    "a = '3'"
   ]
  },
  {
   "cell_type": "code",
   "execution_count": 73,
   "metadata": {},
   "outputs": [],
   "source": [
    "a = '1,2,3\\, 4'"
   ]
  },
  {
   "cell_type": "code",
   "execution_count": 74,
   "metadata": {},
   "outputs": [
    {
     "data": {
      "text/plain": [
       "['1', '2', '3, 4']"
      ]
     },
     "execution_count": 74,
     "metadata": {},
     "output_type": "execute_result"
    }
   ],
   "source": [
    "[x.replace('\\\\', '') for x in split_esc(a, ',')]"
   ]
  },
  {
   "cell_type": "code",
   "execution_count": null,
   "metadata": {},
   "outputs": [],
   "source": []
  },
  {
   "cell_type": "code",
   "execution_count": 65,
   "metadata": {},
   "outputs": [],
   "source": []
  },
  {
   "cell_type": "code",
   "execution_count": 592,
   "metadata": {},
   "outputs": [
    {
     "data": {
      "text/plain": [
       "('У {word1} было {cn1} {word3}. У {word2} было {cn2} {word4}.',\n",
       " 'Сколько {word6} {word5}?',\n",
       " ['cn1+cn2', '', '', '', ''],\n",
       " ['', '', '', '', ''],\n",
       " {'cn1': (1, 100), 'cn2': (1, 120)},\n",
       " {'word3': 'cn1', 'word4': 'cn2'},\n",
       " {'word1': [['name_fem_gen']],\n",
       "  'word2': [['name_fem_gen']],\n",
       "  'word3': [['брелок', 'брелка', 'брелков']],\n",
       "  'word4': [['word3']],\n",
       "  'word5': [['word3']],\n",
       "  'word6': [['у них'], ['у них всего'], ['всего'], ['у девочек всего']],\n",
       "  'word7': [['']]},\n",
       " {})"
      ]
     },
     "execution_count": 592,
     "metadata": {},
     "output_type": "execute_result"
    }
   ],
   "source": [
    "parse_line(table.iloc[2])"
   ]
  },
  {
   "cell_type": "code",
   "execution_count": 438,
   "metadata": {},
   "outputs": [],
   "source": [
    "c, q, steps, reqs, ranges, word_deps, words, defined_vars = parse_line(table.iloc[1])"
   ]
  },
  {
   "cell_type": "code",
   "execution_count": 681,
   "metadata": {},
   "outputs": [],
   "source": [
    "dataset = []\n",
    "for i in range(table.shape[0]):\n",
    "    for j in range(1000):\n",
    "        c, q, r = generate(*parse_line(table.iloc[i]))\n",
    "        c = c[0].upper() + c[1:]\n",
    "        q = q[0].upper() + q[1:]\n",
    "        dataset.append((c, q, r))"
   ]
  },
  {
   "cell_type": "code",
   "execution_count": 57,
   "metadata": {},
   "outputs": [
    {
     "data": {
      "text/plain": [
       "('У Михаила было 7395 рублей. Он дал своему внуку 590 рублей.',\n",
       " 'Сколько у него после этого осталось денег?',\n",
       " 6805)"
      ]
     },
     "execution_count": 57,
     "metadata": {},
     "output_type": "execute_result"
    }
   ],
   "source": [
    "generate(*parse_line(table.iloc[5]))"
   ]
  },
  {
   "cell_type": "code",
   "execution_count": 682,
   "metadata": {},
   "outputs": [
    {
     "data": {
      "text/plain": [
       "4000"
      ]
     },
     "execution_count": 682,
     "metadata": {},
     "output_type": "execute_result"
    }
   ],
   "source": [
    "len(set(dataset))"
   ]
  },
  {
   "cell_type": "code",
   "execution_count": 571,
   "metadata": {},
   "outputs": [
    {
     "data": {
      "text/plain": [
       "('У {word1} было {cn1} {word3}. У {word2} было {cn2} {word4}.',\n",
       " 'Сколько {word6} {word5}?',\n",
       " ['cn1+cn2', '', '', '', ''],\n",
       " ['', '', '', '', ''],\n",
       " {'cn1': (1, 100), 'cn2': (1, 120)},\n",
       " {'word3': 'cn1', 'word4': 'cn2'},\n",
       " {'word1': [['name_fem_gen']],\n",
       "  'word2': [['name_fem_gen']],\n",
       "  'word3': [['брелок', 'брелка', 'брелков', '']],\n",
       "  'word4': [['word3']],\n",
       "  'word5': [['word3']],\n",
       "  'word6': [['у них'], ['у них всего'], ['всего'], ['у девочек всего']],\n",
       "  'word7': [['']]},\n",
       " {})"
      ]
     },
     "execution_count": 571,
     "metadata": {},
     "output_type": "execute_result"
    }
   ],
   "source": [
    "parse_line(table.iloc[2])"
   ]
  },
  {
   "cell_type": "code",
   "execution_count": 524,
   "metadata": {},
   "outputs": [
    {
     "data": {
      "text/plain": [
       "'В книжный супермаркет поступило 3548 экземпляров произведений Успенского. В первый день большую часть распродали и в нём осталось всего 780 экземпляров.'"
      ]
     },
     "execution_count": 524,
     "metadata": {},
     "output_type": "execute_result"
    }
   ],
   "source": [
    "c.format(**dv))"
   ]
  },
  {
   "cell_type": "code",
   "execution_count": 650,
   "metadata": {},
   "outputs": [],
   "source": [
    "from pymorphy2 import MorphAnalyzer, \n",
    "m = MorphAnalyzer()"
   ]
  },
  {
   "cell_type": "code",
   "execution_count": 12,
   "metadata": {},
   "outputs": [],
   "source": [
    "names_masc = [line.split('\\t') for line in open('dialog/names/names_masc_inf.txt').read().splitlines()]\n",
    "names_fem = [line.split('\\t') for line in open('dialog/names/names_fem_inf.txt').read().splitlines()]"
   ]
  },
  {
   "cell_type": "code",
   "execution_count": 663,
   "metadata": {},
   "outputs": [],
   "source": [
    "names = open('dialog/names/names_fem.txt').read().splitlines()"
   ]
  },
  {
   "cell_type": "code",
   "execution_count": 657,
   "metadata": {
    "scrolled": true
   },
   "outputs": [
    {
     "data": {
      "text/plain": [
       "['александра',\n",
       " 'андрея',\n",
       " 'алексея',\n",
       " 'сашу',\n",
       " 'лёшу',\n",
       " 'андрюшу',\n",
       " 'альберта',\n",
       " 'анатолия',\n",
       " 'толь',\n",
       " 'аркадия',\n",
       " 'аркашу',\n",
       " 'артёма',\n",
       " 'тёма',\n",
       " 'артура',\n",
       " 'афанасия',\n",
       " 'бориса',\n",
       " 'борю',\n",
       " 'вадима',\n",
       " 'валентина',\n",
       " 'валерия',\n",
       " 'валер',\n",
       " 'виктора',\n",
       " 'витю',\n",
       " 'виталия',\n",
       " 'виталика',\n",
       " 'владимира',\n",
       " 'влада',\n",
       " 'вову',\n",
       " 'вячеслава',\n",
       " 'гавриила',\n",
       " 'геннадия',\n",
       " 'ген',\n",
       " 'глеба',\n",
       " 'григория',\n",
       " 'гришу',\n",
       " 'даниила',\n",
       " 'даню',\n",
       " 'дениса',\n",
       " 'дмитрия',\n",
       " 'диму',\n",
       " 'евгения',\n",
       " 'егора',\n",
       " 'ивана',\n",
       " 'игоря',\n",
       " 'илью',\n",
       " 'илюшу',\n",
       " 'кирилла',\n",
       " 'кирюш',\n",
       " 'кузьму',\n",
       " 'левого',\n",
       " 'леонида',\n",
       " 'лёню',\n",
       " 'максим',\n",
       " 'мирона',\n",
       " 'марка',\n",
       " 'макса',\n",
       " 'михаила',\n",
       " 'мишу',\n",
       " 'никиту',\n",
       " 'николая',\n",
       " 'колю',\n",
       " 'никифора',\n",
       " 'олега',\n",
       " 'павла',\n",
       " 'пашу',\n",
       " 'петра',\n",
       " 'петю',\n",
       " 'прохора',\n",
       " 'руслана',\n",
       " 'романа',\n",
       " 'рому',\n",
       " 'святослава',\n",
       " 'сергея',\n",
       " 'серёжимого',\n",
       " 'степана',\n",
       " 'стёпу',\n",
       " 'тараса',\n",
       " 'тимофея',\n",
       " 'тимошу',\n",
       " 'тимура',\n",
       " 'фёдора',\n",
       " 'федю',\n",
       " 'филиппа',\n",
       " 'филю',\n",
       " 'эдуарда',\n",
       " 'юрия',\n",
       " 'юру',\n",
       " 'ярослава',\n",
       " 'славу']"
      ]
     },
     "execution_count": 657,
     "metadata": {},
     "output_type": "execute_result"
    }
   ],
   "source": [
    "[m.parse(word)[0].inflect({'accs'})[0] for word in names]"
   ]
  },
  {
   "cell_type": "code",
   "execution_count": 658,
   "metadata": {},
   "outputs": [
    {
     "data": {
      "text/plain": [
       "['александру',\n",
       " 'андрею',\n",
       " 'алексею',\n",
       " 'саше',\n",
       " 'лёше',\n",
       " 'андрюше',\n",
       " 'альберту',\n",
       " 'анатолию',\n",
       " 'толю',\n",
       " 'аркадию',\n",
       " 'аркаше',\n",
       " 'артёму',\n",
       " 'тёму',\n",
       " 'артуру',\n",
       " 'афанасию',\n",
       " 'борису',\n",
       " 'боре',\n",
       " 'вадиму',\n",
       " 'валентину',\n",
       " 'валерию',\n",
       " 'валеру',\n",
       " 'виктору',\n",
       " 'вите',\n",
       " 'виталию',\n",
       " 'виталику',\n",
       " 'владимиру',\n",
       " 'владу',\n",
       " 'вове',\n",
       " 'вячеславу',\n",
       " 'гавриилу',\n",
       " 'геннадию',\n",
       " 'гену',\n",
       " 'глебу',\n",
       " 'григорию',\n",
       " 'грише',\n",
       " 'даниилу',\n",
       " 'дане',\n",
       " 'денису',\n",
       " 'дмитрию',\n",
       " 'диме',\n",
       " 'евгению',\n",
       " 'егору',\n",
       " 'ивану',\n",
       " 'игорю',\n",
       " 'илье',\n",
       " 'илюше',\n",
       " 'кириллу',\n",
       " 'кирюшу',\n",
       " 'кузьме',\n",
       " 'левому',\n",
       " 'леониду',\n",
       " 'лёне',\n",
       " 'максиму',\n",
       " 'мирону',\n",
       " 'марку',\n",
       " 'максу',\n",
       " 'михаилу',\n",
       " 'мише',\n",
       " 'никите',\n",
       " 'николаю',\n",
       " 'коле',\n",
       " 'никифору',\n",
       " 'олегу',\n",
       " 'павлу',\n",
       " 'паше',\n",
       " 'петру',\n",
       " 'пете',\n",
       " 'прохору',\n",
       " 'руслану',\n",
       " 'роману',\n",
       " 'роме',\n",
       " 'святославу',\n",
       " 'сергею',\n",
       " 'серёжимому',\n",
       " 'степану',\n",
       " 'стёпе',\n",
       " 'тарасу',\n",
       " 'тимофею',\n",
       " 'тимоше',\n",
       " 'тимуру',\n",
       " 'фёдору',\n",
       " 'феде',\n",
       " 'филиппу',\n",
       " 'филе',\n",
       " 'эдуарду',\n",
       " 'юрию',\n",
       " 'юре',\n",
       " 'ярославу',\n",
       " 'славе']"
      ]
     },
     "execution_count": 658,
     "metadata": {},
     "output_type": "execute_result"
    }
   ],
   "source": [
    "[m.parse(word)[0].inflect({'datv'})[0] for word in names]"
   ]
  },
  {
   "cell_type": "code",
   "execution_count": 664,
   "metadata": {},
   "outputs": [],
   "source": [
    "f = open('dialog/names/names_fem_inf.txt', 'w')\n",
    "f.write('\\n'.join(['\\t'.join([word,\n",
    "  m.parse(word)[0].inflect({'gent'})[0].capitalize(),\n",
    "  m.parse(word)[0].inflect({'datv'})[0].capitalize(),\n",
    "  m.parse(word)[0].inflect({'accs'})[0].capitalize()]) for word in names]))\n",
    "f.close()"
   ]
  },
  {
   "cell_type": "code",
   "execution_count": null,
   "metadata": {},
   "outputs": [],
   "source": []
  }
 ],
 "metadata": {
  "kernelspec": {
   "display_name": "Python 3",
   "language": "python",
   "name": "python3"
  },
  "language_info": {
   "codemirror_mode": {
    "name": "ipython",
    "version": 3
   },
   "file_extension": ".py",
   "mimetype": "text/x-python",
   "name": "python",
   "nbconvert_exporter": "python",
   "pygments_lexer": "ipython3",
   "version": "3.6.3"
  }
 },
 "nbformat": 4,
 "nbformat_minor": 2
}
