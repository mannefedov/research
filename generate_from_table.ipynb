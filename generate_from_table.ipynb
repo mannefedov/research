{
 "cells": [
  {
   "cell_type": "code",
   "execution_count": 590,
   "metadata": {},
   "outputs": [],
   "source": [
    "import pandas as pd\n",
    "import re\n",
    "import numpy as np\n",
    "from sympy.solvers import solve\n",
    "from sympy import Symbol, simplify\n",
    "from sympy import sieve\n",
    "from random import choice"
   ]
  },
  {
   "cell_type": "code",
   "execution_count": 591,
   "metadata": {},
   "outputs": [],
   "source": [
    "table = pd.read_csv('dialog/patterns/artith_qa.csv').fillna('')"
   ]
  },
  {
   "cell_type": "code",
   "execution_count": 425,
   "metadata": {},
   "outputs": [
    {
     "data": {
      "text/plain": [
       "context         В {word3} поступило {cn1} {word1} {word4} {wor...\n",
       "q                           Сколько {word4} купили в первый день?\n",
       "r1                                                        cn1-cn2\n",
       "r1_req                                           r1>((cn2+cn1)/2)\n",
       "r2                                                               \n",
       "r2_req                                                           \n",
       "r3                                                               \n",
       "r3_req                                                           \n",
       "r4                                                               \n",
       "r4_req                                                           \n",
       "r5                                                               \n",
       "r5_req                                                           \n",
       "var_range                             cn1=(20,10000);cn2=(2,2000)\n",
       "defined_vars                                                     \n",
       "formula                                                   cn1-cn2\n",
       "word1                        cn1@экземпляр;экземпляра;экземпляров\n",
       "word2                        cn2@экземпляр;экземпляра;экземпляров\n",
       "word3                 книжный магазин,магазин,книжный супермаркет\n",
       "word4                                         сказок,произведений\n",
       "word5           Пушкина,Братьев Гримм,Андерсона,Александра Сер...\n",
       "word6               раскупили,распродали,продали,разобрали,купили\n",
       "word7                                                            \n",
       "Name: 1, dtype: object"
      ]
     },
     "execution_count": 425,
     "metadata": {},
     "output_type": "execute_result"
    }
   ],
   "source": [
    "table.iloc[1]"
   ]
  },
  {
   "cell_type": "code",
   "execution_count": 540,
   "metadata": {},
   "outputs": [],
   "source": [
    "def parse_line(line):\n",
    "    steps = list(line[['r1', 'r2', 'r3', 'r4', 'r5']].values)\n",
    "    reqs = list(line[['r1_req', 'r2_req', 'r3_req', 'r4_req', 'r5_req']].values)\n",
    "    words = {}\n",
    "    word_deps = {}\n",
    "    for var, word in zip(['word1', 'word2', 'word3', 'word4', 'word5', 'word6', 'word7'],\n",
    "                        line[['word1', 'word2', 'word3', 'word4', 'word5', 'word6', 'word7']].values):\n",
    "        if '@' in word:\n",
    "            dep, options = word.split('@')\n",
    "            word_deps[var] = dep\n",
    "        else:\n",
    "            options = word\n",
    "        \n",
    "        options = [w.split(';') for w in options.split(',')]\n",
    "        words[var] = options\n",
    "    formula = line['formula']   \n",
    "    ranges = {}\n",
    "    for v in line['var_range'].split(';'):\n",
    "        var, rang = v.split('=')\n",
    "        ranges[var] = eval(rang)\n",
    "    context = line['context']\n",
    "    question = line['q']\n",
    "    defined_vars = {}\n",
    "    if line['defined_vars']:\n",
    "        \n",
    "    \n",
    "        for v in line['defined_vars'].split(';'):\n",
    "            var, val = v.split('=')\n",
    "            defined_vars[var] = int(val)\n",
    "    \n",
    "    return context, question, steps, reqs, ranges, word_deps, words, defined_vars"
   ]
  },
  {
   "cell_type": "code",
   "execution_count": 427,
   "metadata": {},
   "outputs": [],
   "source": [
    "import math\n",
    "def divisors(n, rang=None):\n",
    "    if not rang:\n",
    "        rang= (2, int(math.sqrt(n))+1)\n",
    "    else:\n",
    "        rang = (max(rang[0], 2), int(math.sqrt(rang[1]))+1)\n",
    "    divs = set()\n",
    "    for i in range(*rang):\n",
    "        if n%i == 0:\n",
    "            divs.update([i])\n",
    "            if n/i < rang[1]:\n",
    "                divs.update([n/i])\n",
    "            \n",
    "    \n",
    "    return list(set(divs))"
   ]
  },
  {
   "cell_type": "code",
   "execution_count": 428,
   "metadata": {},
   "outputs": [],
   "source": [
    "def generate_numbers_add_or_mult(step, req, ranges, defined_vars, not_prime_req, res_dividable_req, i):\n",
    "    if '+' in step:\n",
    "        variables = step.split('+')\n",
    "    elif '*' in step:\n",
    "        variables = step.split('*')\n",
    "    else:\n",
    "        raise KeyError\n",
    "\n",
    "    \n",
    "    #нет условия сверху, наверное все через интервалы переменных задать можно\n",
    "    # но надо будет проверять\n",
    "    if req:\n",
    "        if variables[0] not in defined_vars and variables[1] not in defined_vars:\n",
    "            v1 = np.random.randint(*ranges[variables[0]])\n",
    "            exec(f'{variables[0]} = {v1}')\n",
    "            exec(f'{variables[1]} = Symbol(\"{variables[1]}\")')\n",
    "            exec(f'r{i+1}= {step}')\n",
    "            sol = solve((eval(req)).subs(variables[0], v1), variables[1])\n",
    "\n",
    "            sol = sol.as_set()\n",
    "            min_sol, max_sol = float(sol.left), float(sol.right)\n",
    "            min_rang, max_rang = ranges[variables[1]]\n",
    "\n",
    "            v2 = np.random.randint(max([min_sol, min_rang]), \n",
    "                                       min([max_sol, max_rang]))\n",
    "            \n",
    "        elif variables[0] in defined_vars:\n",
    "            v1 = defined_vars[variables[0]]\n",
    "            exec(f'{variables[1]} = Symbol(\"{variables[1]}\")')\n",
    "            exec(f'{variables[0]} = {v1}')\n",
    "            exec(f'r{i+1}= {step}')\n",
    "            sol = solve((eval(req)).subs(variables[0], v1), variables[1])\n",
    "#             print(req)\n",
    "#             print((eval(req)))\n",
    "            sol = sol.as_set()\n",
    "            min_sol, max_sol = float(sol.left), float(sol.right)\n",
    "            min_rang, max_rang = ranges[variables[1]]\n",
    "\n",
    "            v2 = np.random.randint(max([min_sol, min_rang]), \n",
    "                                       min([max_sol, max_rang]))\n",
    "            \n",
    "        elif variables[1] in defined_vars:\n",
    "            v2 = defined_vars[variables[1]]\n",
    "            exec(f'{variables[1]} = {v2}')\n",
    "            exec(f'{variables[0]} = Symbol(\"{variables[0]}\")')\n",
    "            exec(f'r{i+1}= {step}')\n",
    "            sol = solve((eval(req)).subs(variables[1], v2), variables[0])\n",
    "\n",
    "            sol = sol.as_set()\n",
    "            min_sol, max_sol = float(sol.left), float(sol.right)\n",
    "            min_rang, max_rang = ranges[variables[0]]\n",
    "\n",
    "            v1 = np.random.randint(max([min_sol, min_rang]), \n",
    "                                       min([max_sol, max_rang]))\n",
    "            \n",
    "    else:\n",
    "        v1 = defined_vars.get(variables[0], np.random.randint(*ranges[variables[0]]))\n",
    "        v2 = defined_vars.get(variables[1], np.random.randint(*ranges[variables[1]]))\n",
    "    \n",
    "    exec(f'{variables[0]} = {v1}')\n",
    "    exec(f'{variables[1]} = {v2}')\n",
    "    result = eval(step)\n",
    "    \n",
    "    if f'r{i+1}' in not_prime_req and result in sieve:\n",
    "        return generate_numbers_add_or_mult(step, req, ranges, defined_vars, not_prime_req, res_dividable_req, i)\n",
    "    elif f'r{i+1}' in res_dividable_req:\n",
    "        if res_dividable_req[f'r{i+1}']%result:\n",
    "            return generate_numbers_add_or_mult(step, req, ranges, defined_vars, not_prime_req, res_dividable_req, i)\n",
    "        else:\n",
    "            return result\n",
    "    else:\n",
    "        return v1, v2, result\n",
    "\n"
   ]
  },
  {
   "cell_type": "code",
   "execution_count": 429,
   "metadata": {},
   "outputs": [],
   "source": [
    "def generate_numbers_subst(step, req, ranges, defined_vars, not_prime_req, res_dividable_req, i):\n",
    "    variables = step.split('-')\n",
    "    \n",
    "\n",
    "    \n",
    "    #условия снизу плохо учитываются. Если в r1>100, а первое число \n",
    "    # в интервале 1,300, наверное все обходится через правильные интервалы\n",
    "    # или если r1<1000 , v1=5000, а у второго  интервал меньше 4 к\n",
    "    if req:\n",
    "        if variables[0] not in defined_vars and variables[1] not in defined_vars:\n",
    "            v1 = np.random.randint(*ranges[variables[0]])\n",
    "            exec(f'{variables[0]} = {v1}')\n",
    "            exec(f'{variables[1]} = Symbol(\"{variables[1]}\")')\n",
    "            exec(f'r{i+1}= {step}')\n",
    "            sol = solve((eval(req)).subs(variables[0], v1), variables[1])\n",
    "\n",
    "            sol = sol.as_set()\n",
    "            min_sol, max_sol = float(sol.left), float(sol.right)\n",
    "            min_rang, max_rang = ranges[variables[1]]\n",
    "            min_r, max_r = (max([min_sol, min_rang]), \n",
    "                                       min([max_sol, max_rang, v1-1]))\n",
    "#             if min_r >= max_r:\n",
    "                \n",
    "#                 return generate_numbers_subst(step, req, ranges, defined_vars, not_prime_req, res_dividable_req, i)\n",
    "            \n",
    "            v2 = np.random.randint(min_r, max_r)\n",
    "            \n",
    "        elif variables[0] in defined_vars:\n",
    "            v1 = defined_vars[variables[0]]\n",
    "            exec(f'{variables[1]} = Symbol(\"{variables[1]}\")')\n",
    "            exec(f'{variables[0]} = {v1}')\n",
    "            exec(f'r{i+1}= {step}')\n",
    "            sol = solve((eval(req)), variables[1])\n",
    "#             print(req)\n",
    "#             print((eval(req)))\n",
    "            sol = sol.as_set()\n",
    "            min_sol, max_sol = float(sol.left), float(sol.right)\n",
    "            min_rang, max_rang = ranges[variables[1]]\n",
    "            min_r, max_r = (max([min_sol, min_rang]), \n",
    "                                       min([max_sol, max_rang, v1-1]))\n",
    "#             if min_r >= max_r:\n",
    "#                 print(v1, min_r, max_r)\n",
    "#                 return generate_numbers_subst(step, req, ranges, defined_vars, not_prime_req, res_dividable_req, i)\n",
    "            \n",
    "            v2 = np.random.randint(min_r, max_r)\n",
    "            \n",
    "        elif variables[1] in defined_vars:\n",
    "            v2 = defined_vars[variables[1]]\n",
    "            exec(f'{variables[1]} = {v2}')\n",
    "            exec(f'{variables[0]} = Symbol(\"{variables[0]}\")')\n",
    "            exec(f'r{i+1}= {step}')\n",
    "            sol = solve((eval(req)), variables[0])\n",
    "\n",
    "            sol = sol.as_set()\n",
    "            min_sol, max_sol = float(sol.left), float(sol.right)\n",
    "            min_rang, max_rang = ranges[variables[0]]\n",
    "            min_r, max_r = (max([v2+1, min_sol, min_rang]), \n",
    "                                       min([max_sol, max_rang]))\n",
    "#             if min_r >= max_r:\n",
    "#                 return generate_numbers_subst(step, req, ranges, defined_vars, not_prime_req, res_dividable_req, i)\n",
    "            \n",
    "            v1 = np.random.randint(min_r, max_r)\n",
    "            \n",
    "    else:\n",
    "        # допилить для определенных r1 \n",
    "        v1 = defined_vars.get(variables[0], np.random.randint(*ranges[variables[0]]))\n",
    "        min_r, max_r = ranges[variables[1]]\n",
    "        v2 = defined_vars.get(variables[1], np.random.randint(min_r, min(max_r, v1)))\n",
    "    \n",
    "    exec(f'{variables[0]} = {v1}')\n",
    "    exec(f'{variables[1]} = {v2}')\n",
    "    result = eval(step)\n",
    "    \n",
    "    if f'r{i+1}' in not_prime_req and result in sieve:\n",
    "        return generate_numbers_subst(step, req, ranges, defined_vars, not_prime_req, res_dividable_req, i)\n",
    "    elif f'r{i+1}' in res_dividable_req:\n",
    "        if res_dividable_req[f'r{i+1}']%result:\n",
    "            return generate_numbers_subst(step, req, ranges, defined_vars, not_prime_req, res_dividable_req, i)\n",
    "        else:\n",
    "            return result\n",
    "    elif result < 1:\n",
    "        return generate_numbers_subst(step, req, ranges, defined_vars, not_prime_req, res_dividable_req, i)\n",
    "    else:\n",
    "        return v1, v2, result\n",
    "\n"
   ]
  },
  {
   "cell_type": "code",
   "execution_count": 430,
   "metadata": {},
   "outputs": [],
   "source": [
    "def generate_numbers_div(step, req, ranges, defined_vars, not_prime_req, res_dividable_req, i):\n",
    "    variables = step.split('/')\n",
    "    \n",
    "\n",
    "    \n",
    "    #пока не работает\n",
    "    # нужно как-то учитывать условия\n",
    "    # ещё продумать что делать с определенным вторым аргументов\n",
    "    # делители при определенном втором аргументе могут не найтись и будут ошибки\n",
    "    # но наверное лучше оставить так, потому что заново ничего уже не сгенеришь\n",
    "    # если ошибки будут часто, то надо будет продумывать откат назад\n",
    "    # но пока кажется что требование на делимость будет достаточно\n",
    "    if req:\n",
    "        if variables[0] not in defined_vars and variables[1] not in defined_vars:\n",
    "            v1 = np.random.choice([i for i in range(*ranges[variables[0]]) if i not in sieve])\n",
    "            exec(f'{variables[0]} = {v1}')\n",
    "            exec(f'{variables[1]} = Symbol(\"{variables[1]}\")')\n",
    "            exec(f'r{i+1}= {step}')\n",
    "            sol = solve((eval(req)).subs(variables[0], v1), variables[1])\n",
    "            sol = sol.as_set()\n",
    "            min_sol, max_sol = float(sol.left), float(sol.right)\n",
    "            min_rang, max_rang = ranges[variables[1]]\n",
    "            min_r, max_r = (max([min_sol, min_rang]), \n",
    "                                       min([max_sol, max_rang]))\n",
    "            factors = divisors(v1, (round(min_r), round(max_r)+1))\n",
    "            if not factors:\n",
    "                return generate_numbers_div(step, req, ranges, defined_vars, not_prime_req, res_dividable_req, i)\n",
    "            v2 = np.random.choice(factors)\n",
    "            \n",
    "        elif variables[0] in defined_vars:\n",
    "            v1 = defined_vars[variables[0]]\n",
    "            exec(f'{variables[0]} = {v1}')\n",
    "            exec(f'{variables[1]} = Symbol(\"{variables[1]}\")')\n",
    "            exec(f'r{i+1}= {step}')\n",
    "            sol = solve((eval(req)), variables[1])\n",
    "            sol = sol.as_set()\n",
    "            min_sol, max_sol = float(sol.left), float(sol.right)\n",
    "            min_rang, max_rang = ranges[variables[1]]\n",
    "            min_r, max_r = (max([min_sol, min_rang]), \n",
    "                                       min([max_sol, max_rang]))\n",
    "            factors = divisors(v1, (round(min_r), round(max_r)+1))\n",
    "            if not factors:\n",
    "                return generate_numbers_div(step, req, ranges, defined_vars, not_prime_req, res_dividable_req, i)\n",
    "            v2 = np.random.choice(factors)\n",
    "            \n",
    "        elif variables[1] in defined_vars:\n",
    "            v2 = defined_vars[variables[1]]\n",
    "            exec(f'{variables[1]} = {v2}')\n",
    "            exec(f'{variables[0]} = Symbol(\"{variables[0]}\")')\n",
    "            exec(f'r{i+1}= {step}')\n",
    "            sol = solve((eval(req)), variables[0])\n",
    "            sol = sol.as_set()\n",
    "            min_sol, max_sol = float(sol.left), float(sol.right)\n",
    "            min_rang, max_rang = ranges[variables[0]]\n",
    "            min_r, max_r = (max([min_sol, min_rang]), \n",
    "                                       min([max_sol, max_rang]))\n",
    "\n",
    "            v1 = np.random.choice([i for i in range(round(min_r), round(max_r)+1) if not i%v2 and i!=1])\n",
    "            \n",
    "    else:\n",
    "        if variables[0] not in defined_vars and variables[1] not in defined_vars:\n",
    "            v1 = np.random.choice([i for i in range(*ranges[variables[0]]) if i not in sieve])\n",
    "\n",
    "            factors = divisors(v1, ranges[variables[1]])\n",
    "            if not factors:\n",
    "                return generate_numbers_div(step, req, ranges, defined_vars, not_prime_req, res_dividable_req, i)\n",
    "            v2 = np.random.choice(factors)\n",
    "        elif variables[0] in defined_vars:\n",
    "            v1 = defined_vars.get(variables[0])\n",
    "\n",
    "            factors = divisors(v1, ranges[variables[1]])\n",
    "            if not factors:\n",
    "                return generate_numbers_div(step, req, ranges, defined_vars, not_prime_req, res_dividable_req, i)\n",
    "            v2 = np.random.choice(factors)\n",
    "        elif variables[1] in defined_vars:\n",
    "            v2 = defined_vars[variables[1]]\n",
    "            v1 = np.random.choice([i for i in range(*ranges[variables[0]]) if not i%v2 and i!=1])\n",
    "            \n",
    "        \n",
    "    exec(f'{variables[0]} = {v1}')\n",
    "    exec(f'{variables[1]} = {v2}')\n",
    "    result = eval(step)\n",
    "    \n",
    "    if f'r{i+1}' in not_prime_req and result in sieve:\n",
    "        return generate_numbers_div(step, req, ranges, defined_vars, not_prime_req, res_dividable_req, i)\n",
    "    elif f'r{i+1}' in res_dividable_req:\n",
    "        if res_dividable_req[f'r{i+1}']%result:\n",
    "            return generate_numbers_div(step, req, ranges, defined_vars, not_prime_req, res_dividable_req, i)\n",
    "        else:\n",
    "            return int(v1), int(v2), int(result)\n",
    "    elif result < 1:\n",
    "        return generate_numbers_div(step, req, ranges, defined_vars, not_prime_req, res_dividable_req, i)\n",
    "    else:\n",
    "        return int(v1), int(v2), int(result)\n",
    "\n"
   ]
  },
  {
   "cell_type": "code",
   "execution_count": null,
   "metadata": {},
   "outputs": [],
   "source": []
  },
  {
   "cell_type": "code",
   "execution_count": 111,
   "metadata": {},
   "outputs": [
    {
     "data": {
      "text/latex": [
       "$\\displaystyle cn_{2} + 28 > 100$"
      ],
      "text/plain": [
       "cn2 + 28 > 100"
      ]
     },
     "execution_count": 111,
     "metadata": {},
     "output_type": "execute_result"
    }
   ],
   "source": [
    "(eval(req)).subs(variables[0], v1)"
   ]
  },
  {
   "cell_type": "code",
   "execution_count": 352,
   "metadata": {},
   "outputs": [
    {
     "data": {
      "text/plain": [
       "(10, 6294, 6304)"
      ]
     },
     "execution_count": 352,
     "metadata": {},
     "output_type": "execute_result"
    }
   ],
   "source": [
    "generate_numbers_add_or_mult(step='r1+cn2', req='r2>1000',  defined_vars={'r1':10},\n",
    "                                 ranges={'cn1': (1, 15000), 'cn2': (1, 13000)}, \n",
    "                                 not_prime_req={'cn2',},\n",
    "                                 res_dividable_req={}, i=1)"
   ]
  },
  {
   "cell_type": "code",
   "execution_count": 356,
   "metadata": {},
   "outputs": [
    {
     "data": {
      "text/plain": [
       "(131, 231, 30261)"
      ]
     },
     "execution_count": 356,
     "metadata": {},
     "output_type": "execute_result"
    }
   ],
   "source": [
    "generate_numbers_add_or_mult('cn1*cn2', 'r1>1000',   defined_vars={'r1':10},\n",
    "                             ranges={'cn1': (1, 500), 'cn2': (1, 1300)}, \n",
    "                                 not_prime_req={'cn2',},\n",
    "                                 res_dividable_req={}, i=0)"
   ]
  },
  {
   "cell_type": "code",
   "execution_count": 357,
   "metadata": {},
   "outputs": [
    {
     "data": {
      "text/plain": [
       "(100, 33, 67)"
      ]
     },
     "execution_count": 357,
     "metadata": {},
     "output_type": "execute_result"
    }
   ],
   "source": [
    "generate_numbers_subst('r1-cn2', 'r2>10', defined_vars={'r1':100}, ranges={'cn1': (1, 15000), 'cn2': (1, 15000)}, \n",
    "                                 not_prime_req={'cn2',},\n",
    "                                 res_dividable_req={}, i=1)"
   ]
  },
  {
   "cell_type": "code",
   "execution_count": 422,
   "metadata": {},
   "outputs": [
    {
     "data": {
      "text/plain": [
       "(1000, 5, 200)"
      ]
     },
     "execution_count": 422,
     "metadata": {},
     "output_type": "execute_result"
    }
   ],
   "source": [
    "generate_numbers_div('cn1/cn2', 'r1>3', defined_vars={'cn1':1000}, ranges={'cn1': (10, 5000), 'cn2': (5, 5000)}, \n",
    "                                 not_prime_req={'cn2',},\n",
    "                                 res_dividable_req={}, i=0)"
   ]
  },
  {
   "cell_type": "code",
   "execution_count": 217,
   "metadata": {},
   "outputs": [
    {
     "name": "stdout",
     "output_type": "stream",
     "text": [
      "2615 5.0 523.0\n"
     ]
    }
   ],
   "source": [
    "\n",
    "\n",
    "v1 = np.random.choice([i for i in range(*ranges[variables[0]]) if i not in sieve])\n",
    "\n",
    "factors = divisors(v1, ranges[variables[1]])\n",
    "v2 = np.random.choice(factors)\n",
    "\n",
    "print(v1, v2, v1/v2)"
   ]
  },
  {
   "cell_type": "code",
   "execution_count": 341,
   "metadata": {},
   "outputs": [],
   "source": [
    "step='r1-cn2'\n",
    "req='r2<100'\n",
    "ranges={'cn1': (1, 5000), 'cn2': (1, 1300)}\n",
    "variables = step.split('-')                              \n",
    "not_prime_req={'cn2',}\n",
    "defined_vars = {'r1':100}                 \n",
    "res_dividable_req={}\n",
    "i=1\n",
    "\n",
    "v1 = defined_vars[variables[0]]\n",
    "exec(f'{variables[1]} = Symbol(\"{variables[1]}\")')\n",
    "exec(f'{variables[0]} = {v1}')\n",
    "exec(f'r{i+1}= {step}')\n",
    "sol = solve((eval(req)), variables[1])\n",
    "#             print(req)\n",
    "#             print((eval(req)))\n",
    "sol = sol.as_set()\n",
    "min_sol, max_sol = float(sol.left), float(sol.right)\n",
    "min_rang, max_rang = ranges[variables[1]]\n",
    "min_r, max_r = (max([min_sol, min_rang]), \n",
    "                           min([max_sol, max_rang, v1-1]))\n",
    "\n",
    "\n",
    "# v1 = np.random.choice([i for i in range(*ranges[variables[0]]) if i not in sieve])\n",
    "# exec(f'{variables[0]} = {v1}')\n",
    "# exec(f'{variables[1]} = Symbol(\"{variables[1]}\")')\n",
    "# exec(f'r{i+1}= {step}')\n",
    "# sol = solve((eval(req)).subs(variables[0], v1), variables[1])\n",
    "# sol = sol.as_set()\n",
    "# min_sol, max_sol = float(sol.left), float(sol.right)\n",
    "# min_rang, max_rang = ranges[variables[1]]\n",
    "# min_r, max_r = (max([min_sol, min_rang]), \n",
    "#                            min([max_sol, max_rang]))\n",
    "# factors = divisors(v1, (round(min_r), round(max_r)+1))\n",
    "# v2 = np.random.choice(factors)\n",
    "# print(v1, v2, v1/v2)"
   ]
  },
  {
   "cell_type": "code",
   "execution_count": null,
   "metadata": {},
   "outputs": [],
   "source": []
  },
  {
   "cell_type": "code",
   "execution_count": 588,
   "metadata": {},
   "outputs": [],
   "source": [
    "\n",
    "\n",
    "\n",
    "    \n",
    "\n",
    "\n",
    "def generate(context, question, steps, reqs, ranges, word_deps, words, defined_vars={}):\n",
    "    \n",
    "    \n",
    "    not_prime_req = set()\n",
    "    for step in steps:\n",
    "        if '/' in step and step.split('/')[0].startswith('r'):\n",
    "            not_prime_req.add(step.split('/')[0])\n",
    "    res_dividable_req = {}\n",
    "    for step in steps:\n",
    "        if '/' in step:\n",
    "            v1, v2 = step.split('/')\n",
    "            if v1.startswith('r') and v2.startswith('r'):\n",
    "                res_dividable_req[v2] = v1\n",
    "    \n",
    "    \n",
    "    \n",
    "    for i, step in enumerate(steps):\n",
    "        if '*' in step:\n",
    "            v1, v2, result = generate_numbers_add_or_mult(step, reqs[i], ranges, \n",
    "                                                          defined_vars, not_prime_req, \n",
    "                                                          res_dividable_req, i)\n",
    "            v1_name, v2_name = step.split('*')\n",
    "            defined_vars[v1_name] = v1\n",
    "            defined_vars[v2_name] = v2\n",
    "            defined_vars['result'] = result\n",
    "        elif '+' in step:\n",
    "            v1, v2, result = generate_numbers_add_or_mult(step, reqs[i], ranges, \n",
    "                                                          defined_vars, not_prime_req, \n",
    "                                                          res_dividable_req, i)\n",
    "            v1_name, v2_name = step.split('+')\n",
    "            defined_vars[v1_name] = v1\n",
    "            defined_vars[v2_name] = v2\n",
    "            defined_vars['result'] = result\n",
    "        \n",
    "        elif '-' in step:\n",
    "            v1, v2, result = generate_numbers_subst(step, reqs[i], ranges, \n",
    "                                                          defined_vars, not_prime_req, \n",
    "                                                          res_dividable_req, i)\n",
    "            v1_name, v2_name = step.split('-')\n",
    "            defined_vars[v1_name] = v1\n",
    "            defined_vars[v2_name] = v2\n",
    "            defined_vars['result'] = result\n",
    "        \n",
    "        elif '/' in step:\n",
    "            v1, v2, result = generate_numbers_subst(step, reqs[i], ranges, \n",
    "                                                          defined_vars, not_prime_req, \n",
    "                                                          res_dividable_req, i)\n",
    "            v1_name, v2_name = step.split('/')\n",
    "            defined_vars[v1_name] = v1\n",
    "            defined_vars[v2_name] = v2\n",
    "            defined_vars['result'] = result\n",
    "    \n",
    "    intermediate_chosen = {}\n",
    "    for i in range(1, 8):\n",
    "        key = f'word{i}'\n",
    "        value = words[key]\n",
    "\n",
    "        if len(value) == 1 and value[0][0].startswith('word'):\n",
    "            # доработать чтобы разрешать зависимости от чисел\n",
    "            # пока зависит только от числа, но падеж и число одновременно скорее всего тоже нужны\n",
    "            \n",
    "            \n",
    "            wordcase = value[0][0].split('_')\n",
    "            if len(wordcase) == 1:\n",
    "                word = wordcase[0]\n",
    "                if key in word_deps:\n",
    "                    idx = check_one_ending(str(defined_vars[word_deps[key]]))\n",
    "                    \n",
    "                else:\n",
    "                    idx = -1\n",
    "                \n",
    "                defined_vars[key] = intermediate_chosen[word][idx]\n",
    "                intermediate_chosen[key] = intermediate_chosen[word]\n",
    "            \n",
    "            elif wordcase[1] in ['nom', 'gen', 'acc']:\n",
    "                word = wordcase[0]\n",
    "                case = ['nom', 'gen', 'acc'].index(wordcase[1])\n",
    "            \n",
    "#             elif wordcase[0] in \n",
    "                defined_vars[key] = intermediate_chosen[word][case]\n",
    "                intermediate_chosen[key] = intermediate_chosen[word]\n",
    "        \n",
    "        elif len(value) == 1 and value[0][0].startswith('name'):\n",
    "            _,gender,case = value[0][0].split('_')\n",
    "            if gender == 'masc':\n",
    "                name = ['Антон', 'Антона', \"Антону\"]\n",
    "            else:\n",
    "                name = ['Вика', 'Вики', \"Вике\"]\n",
    "            \n",
    "            intermediate_chosen[key] = name\n",
    "            defined_vars[key] = name[['nom', 'gen', 'acc'].index(case)]\n",
    "            \n",
    "    \n",
    "        else:\n",
    "        \n",
    "            word_forms = choice(value)\n",
    "            \n",
    "            if len(word_forms) > 1:\n",
    "                if key not in word_deps:\n",
    "                    print(f'Unresolved num dependency for var {key}')\n",
    "                    raise KeyError\n",
    "                num = str(defined_vars[word_deps[key]])\n",
    "                chosen_idx = check_one_ending(num)\n",
    "                intermediate_chosen[key] = word_forms\n",
    "                defined_vars[key] = word_forms[chosen_idx]\n",
    "            else:\n",
    "                intermediate_chosen[key] = word_forms\n",
    "                defined_vars[key] = word_forms[0]\n",
    "\n",
    "      \n",
    "                    \n",
    "    \n",
    "    return context.format(**defined_vars), question.format(**defined_vars), defined_vars['result']"
   ]
  },
  {
   "cell_type": "code",
   "execution_count": 490,
   "metadata": {},
   "outputs": [],
   "source": [
    "def check_one_ending(num):\n",
    "    if num[-1] == '1':\n",
    "        if len(num) == 1 or num[-2] != '1':\n",
    "            chosen = 0\n",
    "        else:\n",
    "            chosen = 2\n",
    "    elif num[-1] in '234':\n",
    "        if len(num) == 1 or num[-2] != '1':\n",
    "            chosen = 1\n",
    "        else:\n",
    "            chosen = 2\n",
    "    else:\n",
    "        chosen = 2\n",
    "        \n",
    "    return chosen"
   ]
  },
  {
   "cell_type": "code",
   "execution_count": 574,
   "metadata": {},
   "outputs": [
    {
     "data": {
      "text/plain": [
       "1"
      ]
     },
     "execution_count": 574,
     "metadata": {},
     "output_type": "execute_result"
    }
   ],
   "source": [
    "check_one_ending('32')"
   ]
  },
  {
   "cell_type": "code",
   "execution_count": 460,
   "metadata": {},
   "outputs": [],
   "source": [
    "a = '3'"
   ]
  },
  {
   "cell_type": "code",
   "execution_count": 461,
   "metadata": {},
   "outputs": [
    {
     "ename": "IndexError",
     "evalue": "string index out of range",
     "output_type": "error",
     "traceback": [
      "\u001b[0;31m---------------------------------------------------------------------------\u001b[0m",
      "\u001b[0;31mIndexError\u001b[0m                                Traceback (most recent call last)",
      "\u001b[0;32m<ipython-input-461-72069be183a9>\u001b[0m in \u001b[0;36m<module>\u001b[0;34m\u001b[0m\n\u001b[0;32m----> 1\u001b[0;31m \u001b[0ma\u001b[0m\u001b[0;34m[\u001b[0m\u001b[0;34m-\u001b[0m\u001b[0;36m2\u001b[0m\u001b[0;34m]\u001b[0m\u001b[0;34m\u001b[0m\u001b[0m\n\u001b[0m",
      "\u001b[0;31mIndexError\u001b[0m: string index out of range"
     ]
    }
   ],
   "source": [
    "a[-2]"
   ]
  },
  {
   "cell_type": "code",
   "execution_count": 592,
   "metadata": {},
   "outputs": [
    {
     "data": {
      "text/plain": [
       "('У {word1} было {cn1} {word3}. У {word2} было {cn2} {word4}.',\n",
       " 'Сколько {word6} {word5}?',\n",
       " ['cn1+cn2', '', '', '', ''],\n",
       " ['', '', '', '', ''],\n",
       " {'cn1': (1, 100), 'cn2': (1, 120)},\n",
       " {'word3': 'cn1', 'word4': 'cn2'},\n",
       " {'word1': [['name_fem_gen']],\n",
       "  'word2': [['name_fem_gen']],\n",
       "  'word3': [['брелок', 'брелка', 'брелков']],\n",
       "  'word4': [['word3']],\n",
       "  'word5': [['word3']],\n",
       "  'word6': [['у них'], ['у них всего'], ['всего'], ['у девочек всего']],\n",
       "  'word7': [['']]},\n",
       " {})"
      ]
     },
     "execution_count": 592,
     "metadata": {},
     "output_type": "execute_result"
    }
   ],
   "source": [
    "parse_line(table.iloc[2])"
   ]
  },
  {
   "cell_type": "code",
   "execution_count": 438,
   "metadata": {},
   "outputs": [],
   "source": [
    "c, q, steps, reqs, ranges, word_deps, words, defined_vars = parse_line(table.iloc[1])"
   ]
  },
  {
   "cell_type": "code",
   "execution_count": 594,
   "metadata": {},
   "outputs": [
    {
     "data": {
      "text/plain": [
       "('У Вики было 45 брелков. У Вики было 81 брелок.',\n",
       " 'Сколько всего брелков?',\n",
       " 126)"
      ]
     },
     "execution_count": 594,
     "metadata": {},
     "output_type": "execute_result"
    }
   ],
   "source": [
    "\n",
    "generate(*parse_line(table.iloc[2]))"
   ]
  },
  {
   "cell_type": "code",
   "execution_count": 571,
   "metadata": {},
   "outputs": [
    {
     "data": {
      "text/plain": [
       "('У {word1} было {cn1} {word3}. У {word2} было {cn2} {word4}.',\n",
       " 'Сколько {word6} {word5}?',\n",
       " ['cn1+cn2', '', '', '', ''],\n",
       " ['', '', '', '', ''],\n",
       " {'cn1': (1, 100), 'cn2': (1, 120)},\n",
       " {'word3': 'cn1', 'word4': 'cn2'},\n",
       " {'word1': [['name_fem_gen']],\n",
       "  'word2': [['name_fem_gen']],\n",
       "  'word3': [['брелок', 'брелка', 'брелков', '']],\n",
       "  'word4': [['word3']],\n",
       "  'word5': [['word3']],\n",
       "  'word6': [['у них'], ['у них всего'], ['всего'], ['у девочек всего']],\n",
       "  'word7': [['']]},\n",
       " {})"
      ]
     },
     "execution_count": 571,
     "metadata": {},
     "output_type": "execute_result"
    }
   ],
   "source": [
    "parse_line(table.iloc[2])"
   ]
  },
  {
   "cell_type": "code",
   "execution_count": 524,
   "metadata": {},
   "outputs": [
    {
     "data": {
      "text/plain": [
       "'В книжный супермаркет поступило 3548 экземпляров произведений Успенского. В первый день большую часть распродали и в нём осталось всего 780 экземпляров.'"
      ]
     },
     "execution_count": 524,
     "metadata": {},
     "output_type": "execute_result"
    }
   ],
   "source": [
    "c.format(**dv))"
   ]
  }
 ],
 "metadata": {
  "kernelspec": {
   "display_name": "Python 3",
   "language": "python",
   "name": "python3"
  },
  "language_info": {
   "codemirror_mode": {
    "name": "ipython",
    "version": 3
   },
   "file_extension": ".py",
   "mimetype": "text/x-python",
   "name": "python",
   "nbconvert_exporter": "python",
   "pygments_lexer": "ipython3",
   "version": "3.6.3"
  }
 },
 "nbformat": 4,
 "nbformat_minor": 2
}
